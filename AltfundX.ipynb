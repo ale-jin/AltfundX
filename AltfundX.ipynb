{
 "cells": [
  {
   "cell_type": "code",
   "execution_count": 69,
   "metadata": {},
   "outputs": [],
   "source": [
    "import pandas as pd\n",
    "import quandl\n",
    "import matplotlib.pyplot as plt\n",
    "from coinmarketcap import Market\n",
    "import csv, datetime\n",
    "import sys\n",
    "import os\n",
    "\n",
    "\n",
    "%matplotlib inline"
   ]
  },
  {
   "cell_type": "code",
   "execution_count": 2,
   "metadata": {},
   "outputs": [],
   "source": [
    "X = 5\n",
    "initialize_date = \"2016-01-01\"\n",
    "altfundx_currencies = [\"LTC\",\"BTC\",\"ETH\"]"
   ]
  },
  {
   "cell_type": "code",
   "execution_count": 55,
   "metadata": {},
   "outputs": [
    {
     "data": {
      "text/html": [
       "<div>\n",
       "<style scoped>\n",
       "    .dataframe tbody tr th:only-of-type {\n",
       "        vertical-align: middle;\n",
       "    }\n",
       "\n",
       "    .dataframe tbody tr th {\n",
       "        vertical-align: top;\n",
       "    }\n",
       "\n",
       "    .dataframe thead th {\n",
       "        text-align: right;\n",
       "    }\n",
       "</style>\n",
       "<table border=\"1\" class=\"dataframe\">\n",
       "  <thead>\n",
       "    <tr style=\"text-align: right;\">\n",
       "      <th>Symbol</th>\n",
       "      <th>BCH</th>\n",
       "      <th>BTC</th>\n",
       "      <th>BTG</th>\n",
       "      <th>DASH</th>\n",
       "      <th>DOGE</th>\n",
       "      <th>EMC</th>\n",
       "      <th>ETC</th>\n",
       "      <th>ETH</th>\n",
       "      <th>LTC</th>\n",
       "      <th>XMR</th>\n",
       "    </tr>\n",
       "    <tr>\n",
       "      <th>Date</th>\n",
       "      <th></th>\n",
       "      <th></th>\n",
       "      <th></th>\n",
       "      <th></th>\n",
       "      <th></th>\n",
       "      <th></th>\n",
       "      <th></th>\n",
       "      <th></th>\n",
       "      <th></th>\n",
       "      <th></th>\n",
       "    </tr>\n",
       "  </thead>\n",
       "  <tbody>\n",
       "    <tr>\n",
       "      <th>2016-01-03</th>\n",
       "      <td>NaN</td>\n",
       "      <td>6.487951e+09</td>\n",
       "      <td>NaN</td>\n",
       "      <td>19820453.0</td>\n",
       "      <td>15091783.0</td>\n",
       "      <td>NaN</td>\n",
       "      <td>NaN</td>\n",
       "      <td>72409494.0</td>\n",
       "      <td>153184845.0</td>\n",
       "      <td>NaN</td>\n",
       "    </tr>\n",
       "    <tr>\n",
       "      <th>2016-01-10</th>\n",
       "      <td>NaN</td>\n",
       "      <td>6.695068e+09</td>\n",
       "      <td>NaN</td>\n",
       "      <td>19254557.0</td>\n",
       "      <td>17805476.0</td>\n",
       "      <td>NaN</td>\n",
       "      <td>NaN</td>\n",
       "      <td>74621507.0</td>\n",
       "      <td>155022614.0</td>\n",
       "      <td>NaN</td>\n",
       "    </tr>\n",
       "    <tr>\n",
       "      <th>2016-01-17</th>\n",
       "      <td>NaN</td>\n",
       "      <td>5.810702e+09</td>\n",
       "      <td>NaN</td>\n",
       "      <td>24030404.0</td>\n",
       "      <td>15766176.0</td>\n",
       "      <td>NaN</td>\n",
       "      <td>NaN</td>\n",
       "      <td>94185825.0</td>\n",
       "      <td>135127839.0</td>\n",
       "      <td>NaN</td>\n",
       "    </tr>\n",
       "    <tr>\n",
       "      <th>2016-01-24</th>\n",
       "      <td>NaN</td>\n",
       "      <td>5.921312e+09</td>\n",
       "      <td>NaN</td>\n",
       "      <td>27784763.0</td>\n",
       "      <td>17812262.0</td>\n",
       "      <td>NaN</td>\n",
       "      <td>NaN</td>\n",
       "      <td>163842855.0</td>\n",
       "      <td>138289448.0</td>\n",
       "      <td>NaN</td>\n",
       "    </tr>\n",
       "    <tr>\n",
       "      <th>2016-01-31</th>\n",
       "      <td>NaN</td>\n",
       "      <td>5.747894e+09</td>\n",
       "      <td>NaN</td>\n",
       "      <td>25429609.0</td>\n",
       "      <td>25295002.0</td>\n",
       "      <td>NaN</td>\n",
       "      <td>NaN</td>\n",
       "      <td>189559249.0</td>\n",
       "      <td>137354970.0</td>\n",
       "      <td>NaN</td>\n",
       "    </tr>\n",
       "  </tbody>\n",
       "</table>\n",
       "</div>"
      ],
      "text/plain": [
       "Symbol      BCH           BTC  BTG        DASH        DOGE  EMC  ETC  \\\n",
       "Date                                                                   \n",
       "2016-01-03  NaN  6.487951e+09  NaN  19820453.0  15091783.0  NaN  NaN   \n",
       "2016-01-10  NaN  6.695068e+09  NaN  19254557.0  17805476.0  NaN  NaN   \n",
       "2016-01-17  NaN  5.810702e+09  NaN  24030404.0  15766176.0  NaN  NaN   \n",
       "2016-01-24  NaN  5.921312e+09  NaN  27784763.0  17812262.0  NaN  NaN   \n",
       "2016-01-31  NaN  5.747894e+09  NaN  25429609.0  25295002.0  NaN  NaN   \n",
       "\n",
       "Symbol              ETH          LTC  XMR  \n",
       "Date                                       \n",
       "2016-01-03   72409494.0  153184845.0  NaN  \n",
       "2016-01-10   74621507.0  155022614.0  NaN  \n",
       "2016-01-17   94185825.0  135127839.0  NaN  \n",
       "2016-01-24  163842855.0  138289448.0  NaN  \n",
       "2016-01-31  189559249.0  137354970.0  NaN  "
      ]
     },
     "execution_count": 55,
     "metadata": {},
     "output_type": "execute_result"
    }
   ],
   "source": [
    "historical_marketcap = pd.read_csv(\"data.csv\").drop_duplicates(subset=['Symbol','Date'], keep='first')\n",
    "historical_marketcap = historical_marketcap.loc[historical_marketcap['Is Mined'] == True]\n",
    "x_historical_marketcap = historical_marketcap.groupby('Date', as_index=False).apply(lambda x: x.nlargest(X, 'Market Cap'))\n",
    "ts_hist_cap = x_historical_marketcap.pivot(index='Date', columns='Symbol', values='Market Cap')\n",
    "ts_hist_cap.index = pd.to_datetime(ts_hist_cap.index)\n",
    "ts_hist_cap.sort_index(inplace=True)\n",
    "ts_hist_cap = ts_hist_cap.loc[initialize_date:]\n",
    "ts_hist_cap.dropna(axis=1, how='all', thresh=None, subset=None, inplace=True)\n",
    "if \"MIOTA\" in ts_hist_cap.columns:\n",
    "    ts_hist_cap.rename(index=str, columns={\"MIOTA\":\"IOT\"}, inplace=True)\n",
    "\n",
    "ts_hist_cap.head()"
   ]
  },
  {
   "cell_type": "code",
   "execution_count": null,
   "metadata": {},
   "outputs": [],
   "source": []
  },
  {
   "cell_type": "code",
   "execution_count": 6,
   "metadata": {},
   "outputs": [
    {
     "name": "stdout",
     "output_type": "stream",
     "text": [
      "['LTC', 'BTC', 'ETH']\n"
     ]
    },
    {
     "data": {
      "text/html": [
       "<div>\n",
       "<style scoped>\n",
       "    .dataframe tbody tr th:only-of-type {\n",
       "        vertical-align: middle;\n",
       "    }\n",
       "\n",
       "    .dataframe tbody tr th {\n",
       "        vertical-align: top;\n",
       "    }\n",
       "\n",
       "    .dataframe thead th {\n",
       "        text-align: right;\n",
       "    }\n",
       "</style>\n",
       "<table border=\"1\" class=\"dataframe\">\n",
       "  <thead>\n",
       "    <tr style=\"text-align: right;\">\n",
       "      <th>Symbol</th>\n",
       "      <th>LTC</th>\n",
       "      <th>BTC</th>\n",
       "      <th>ETH</th>\n",
       "    </tr>\n",
       "    <tr>\n",
       "      <th>Date</th>\n",
       "      <th></th>\n",
       "      <th></th>\n",
       "      <th></th>\n",
       "    </tr>\n",
       "  </thead>\n",
       "  <tbody>\n",
       "    <tr>\n",
       "      <th>2016-01-03</th>\n",
       "      <td>153184845.0</td>\n",
       "      <td>6.487951e+09</td>\n",
       "      <td>72409494.0</td>\n",
       "    </tr>\n",
       "    <tr>\n",
       "      <th>2016-01-10</th>\n",
       "      <td>155022614.0</td>\n",
       "      <td>6.695068e+09</td>\n",
       "      <td>74621507.0</td>\n",
       "    </tr>\n",
       "    <tr>\n",
       "      <th>2016-01-17</th>\n",
       "      <td>135127839.0</td>\n",
       "      <td>5.810702e+09</td>\n",
       "      <td>94185825.0</td>\n",
       "    </tr>\n",
       "    <tr>\n",
       "      <th>2016-01-24</th>\n",
       "      <td>138289448.0</td>\n",
       "      <td>5.921312e+09</td>\n",
       "      <td>163842855.0</td>\n",
       "    </tr>\n",
       "    <tr>\n",
       "      <th>2016-01-31</th>\n",
       "      <td>137354970.0</td>\n",
       "      <td>5.747894e+09</td>\n",
       "      <td>189559249.0</td>\n",
       "    </tr>\n",
       "  </tbody>\n",
       "</table>\n",
       "</div>"
      ],
      "text/plain": [
       "Symbol              LTC           BTC          ETH\n",
       "Date                                              \n",
       "2016-01-03  153184845.0  6.487951e+09   72409494.0\n",
       "2016-01-10  155022614.0  6.695068e+09   74621507.0\n",
       "2016-01-17  135127839.0  5.810702e+09   94185825.0\n",
       "2016-01-24  138289448.0  5.921312e+09  163842855.0\n",
       "2016-01-31  137354970.0  5.747894e+09  189559249.0"
      ]
     },
     "execution_count": 6,
     "metadata": {},
     "output_type": "execute_result"
    }
   ],
   "source": [
    "mined_currencies = list(ts_hist_cap.columns)\n",
    "print(mined_currencies)\n",
    "#altfundx_currencies = mined_currencies\n",
    "ts_hist_cap = ts_hist_cap[altfundx_currencies]\n",
    "ts_hist_cap.head()"
   ]
  },
  {
   "cell_type": "code",
   "execution_count": 53,
   "metadata": {},
   "outputs": [
    {
     "name": "stdout",
     "output_type": "stream",
     "text": [
      "For Currency LTC - BNC symbol is MWA_LTC_USD\n",
      "For Currency BTC - BNC symbol is MWA_BTC_USD\n",
      "For Currency ETH - BNC symbol is MWA_ETH_USD\n",
      "{'BTC': 'MWA_BTC_USD', 'LTC': 'MWA_LTC_USD', 'ETH': 'MWA_ETH_USD'}\n"
     ]
    }
   ],
   "source": [
    "quandl.ApiConfig.api_key = '-GNvgv_nqBHeqiyEQjyj'\n",
    "symbol_usd_pairs = {x:None for x in altfundx_currencies}\n",
    "\n",
    "for symbol in altfundx_currencies:\n",
    "    bnc_symbol_1 = \"MWA_{}_USD\".format(symbol)\n",
    "    bnc_symbol_2 = \"MWA_{}_BTC_USD\".format(symbol)\n",
    "    bnc_symbol_3 = \"MWA_{}_ETH_USD\".format(symbol)\n",
    "    all_bnc = [\n",
    "        bnc_symbol_1,\n",
    "        bnc_symbol_2,\n",
    "        bnc_symbol_3\n",
    "    ]\n",
    "    for bnc_symbol in all_bnc:\n",
    "        try:\n",
    "            data = quandl.get(\"BNC2/\"+bnc_symbol)\n",
    "            break\n",
    "        except:\n",
    "            bnc_symbol = None\n",
    "    if bnc_symbol:\n",
    "        print(\"For Currency {} - BNC symbol is {}\".format(symbol, bnc_symbol))\n",
    "    else:\n",
    "        print(\"For Currency {} - No BNC symbol\".format(symbol))\n",
    "    symbol_usd_pairs[symbol] = bnc_symbol\n",
    "\n",
    "print(symbol_usd_pairs)"
   ]
  },
  {
   "cell_type": "code",
   "execution_count": 8,
   "metadata": {},
   "outputs": [
    {
     "data": {
      "text/plain": [
       "Timestamp('2016-01-03 00:00:00')"
      ]
     },
     "execution_count": 8,
     "metadata": {},
     "output_type": "execute_result"
    }
   ],
   "source": [
    "ts_hist_cap.index.min()"
   ]
  },
  {
   "cell_type": "code",
   "execution_count": 56,
   "metadata": {},
   "outputs": [],
   "source": [
    "hist_pricing = {x:None for x in altfundx_currencies}\n",
    "for altfundx_instrument in symbol_usd_pairs:\n",
    "    df0 = quandl.get(\"BNC2/\"+symbol_usd_pairs[altfundx_instrument], start_date=ts_hist_cap.index.min())\n",
    "    df = pd.DataFrame(df0, columns=[\"VWAP\"])\n",
    "    #print(altfundx_instrument)\n",
    "    #print(df.head())\n",
    "    df.columns = [\"PRICE\"]\n",
    "    df.index.rename(\"DATETIME\", inplace=True)\n",
    "    hist_pricing[altfundx_instrument] = df"
   ]
  },
  {
   "cell_type": "code",
   "execution_count": null,
   "metadata": {},
   "outputs": [],
   "source": []
  },
  {
   "cell_type": "code",
   "execution_count": 10,
   "metadata": {},
   "outputs": [
    {
     "data": {
      "text/html": [
       "<div>\n",
       "<style scoped>\n",
       "    .dataframe tbody tr th:only-of-type {\n",
       "        vertical-align: middle;\n",
       "    }\n",
       "\n",
       "    .dataframe tbody tr th {\n",
       "        vertical-align: top;\n",
       "    }\n",
       "\n",
       "    .dataframe thead th {\n",
       "        text-align: right;\n",
       "    }\n",
       "</style>\n",
       "<table border=\"1\" class=\"dataframe\">\n",
       "  <thead>\n",
       "    <tr style=\"text-align: right;\">\n",
       "      <th>Symbol</th>\n",
       "      <th>LTC</th>\n",
       "      <th>BTC</th>\n",
       "      <th>ETH</th>\n",
       "    </tr>\n",
       "    <tr>\n",
       "      <th>Date</th>\n",
       "      <th></th>\n",
       "      <th></th>\n",
       "      <th></th>\n",
       "    </tr>\n",
       "  </thead>\n",
       "  <tbody>\n",
       "    <tr>\n",
       "      <th>2016-01-03</th>\n",
       "      <td>0.022817</td>\n",
       "      <td>0.966397</td>\n",
       "      <td>0.010786</td>\n",
       "    </tr>\n",
       "    <tr>\n",
       "      <th>2016-01-10</th>\n",
       "      <td>0.022387</td>\n",
       "      <td>0.966837</td>\n",
       "      <td>0.010776</td>\n",
       "    </tr>\n",
       "    <tr>\n",
       "      <th>2016-01-17</th>\n",
       "      <td>0.022372</td>\n",
       "      <td>0.962034</td>\n",
       "      <td>0.015594</td>\n",
       "    </tr>\n",
       "    <tr>\n",
       "      <th>2016-01-24</th>\n",
       "      <td>0.022221</td>\n",
       "      <td>0.951453</td>\n",
       "      <td>0.026327</td>\n",
       "    </tr>\n",
       "    <tr>\n",
       "      <th>2016-01-31</th>\n",
       "      <td>0.022611</td>\n",
       "      <td>0.946185</td>\n",
       "      <td>0.031204</td>\n",
       "    </tr>\n",
       "  </tbody>\n",
       "</table>\n",
       "</div>"
      ],
      "text/plain": [
       "Symbol           LTC       BTC       ETH\n",
       "Date                                    \n",
       "2016-01-03  0.022817  0.966397  0.010786\n",
       "2016-01-10  0.022387  0.966837  0.010776\n",
       "2016-01-17  0.022372  0.962034  0.015594\n",
       "2016-01-24  0.022221  0.951453  0.026327\n",
       "2016-01-31  0.022611  0.946185  0.031204"
      ]
     },
     "execution_count": 10,
     "metadata": {},
     "output_type": "execute_result"
    }
   ],
   "source": [
    "\n",
    "ts_hist_cap_pct = ts_hist_cap.div(ts_hist_cap.sum(1),0)\n",
    "ts_hist_cap_pct.head()"
   ]
  },
  {
   "cell_type": "code",
   "execution_count": 11,
   "metadata": {},
   "outputs": [
    {
     "data": {
      "text/html": [
       "<div>\n",
       "<style scoped>\n",
       "    .dataframe tbody tr th:only-of-type {\n",
       "        vertical-align: middle;\n",
       "    }\n",
       "\n",
       "    .dataframe tbody tr th {\n",
       "        vertical-align: top;\n",
       "    }\n",
       "\n",
       "    .dataframe thead th {\n",
       "        text-align: right;\n",
       "    }\n",
       "</style>\n",
       "<table border=\"1\" class=\"dataframe\">\n",
       "  <thead>\n",
       "    <tr style=\"text-align: right;\">\n",
       "      <th></th>\n",
       "      <th>LTC</th>\n",
       "      <th>BTC</th>\n",
       "      <th>ETH</th>\n",
       "    </tr>\n",
       "    <tr>\n",
       "      <th>Date</th>\n",
       "      <th></th>\n",
       "      <th></th>\n",
       "      <th></th>\n",
       "    </tr>\n",
       "  </thead>\n",
       "  <tbody>\n",
       "    <tr>\n",
       "      <th>2016-01-03</th>\n",
       "      <td>0.079036</td>\n",
       "      <td>415.841449</td>\n",
       "      <td>0.011257</td>\n",
       "    </tr>\n",
       "    <tr>\n",
       "      <th>2016-01-04</th>\n",
       "      <td>0.079247</td>\n",
       "      <td>417.815412</td>\n",
       "      <td>0.010235</td>\n",
       "    </tr>\n",
       "    <tr>\n",
       "      <th>2016-01-05</th>\n",
       "      <td>0.079090</td>\n",
       "      <td>419.339742</td>\n",
       "      <td>0.009959</td>\n",
       "    </tr>\n",
       "    <tr>\n",
       "      <th>2016-01-06</th>\n",
       "      <td>0.078712</td>\n",
       "      <td>417.132328</td>\n",
       "      <td>0.010245</td>\n",
       "    </tr>\n",
       "    <tr>\n",
       "      <th>2016-01-07</th>\n",
       "      <td>0.081003</td>\n",
       "      <td>435.797228</td>\n",
       "      <td>0.010312</td>\n",
       "    </tr>\n",
       "  </tbody>\n",
       "</table>\n",
       "</div>"
      ],
      "text/plain": [
       "                 LTC         BTC       ETH\n",
       "Date                                      \n",
       "2016-01-03  0.079036  415.841449  0.011257\n",
       "2016-01-04  0.079247  417.815412  0.010235\n",
       "2016-01-05  0.079090  419.339742  0.009959\n",
       "2016-01-06  0.078712  417.132328  0.010245\n",
       "2016-01-07  0.081003  435.797228  0.010312"
      ]
     },
     "execution_count": 11,
     "metadata": {},
     "output_type": "execute_result"
    }
   ],
   "source": [
    "from functools import reduce\n",
    "\n",
    "values_dict = {x:None for x in ts_hist_cap_pct.columns}\n",
    "values_list = []\n",
    "\n",
    "for asset in ts_hist_cap_pct.columns:\n",
    "    #asset = \"BTC\"\n",
    "    weight_price_df = ts_hist_cap_pct[[asset]].merge(hist_pricing[asset], right_index=True, left_index=True, how=\"outer\").fillna(method='ffill')\n",
    "    value_df0 = (weight_price_df[asset] * weight_price_df[\"PRICE\"])\n",
    "    value_df = pd.DataFrame(value_df0, columns=[asset])\n",
    "    value_df.columns = [asset]\n",
    "    value_df.index.rename(\"Date\", inplace=True)\n",
    "    #print(value_df.head())\n",
    "    values_list.append(value_df)\n",
    "\n",
    "index_values = reduce(lambda df1, df2: df1.merge(df2, \"outer\", right_index=True, left_index=True), values_list)\n",
    "index_values.head()"
   ]
  },
  {
   "cell_type": "code",
   "execution_count": 12,
   "metadata": {},
   "outputs": [
    {
     "data": {
      "image/png": "[encoded data removed]",
      "text/plain": [
       "<matplotlib.figure.Figure at 0x7f9647b85240>"
      ]
     },
     "metadata": {},
     "output_type": "display_data"
    }
   ],
   "source": [
    "index_values.sum(axis=1).plot()\n",
    "plt.ylabel('Value (USD)')\n",
    "plt.title('AltfundX '+str(altfundx_currencies))\n",
    "plt.savefig('AltfundX.png')\n",
    "plt.show()"
   ]
  },
  {
   "cell_type": "code",
   "execution_count": 13,
   "metadata": {},
   "outputs": [
    {
     "data": {
      "text/plain": [
       "<matplotlib.axes._subplots.AxesSubplot at 0x7f9647330198>"
      ]
     },
     "execution_count": 13,
     "metadata": {},
     "output_type": "execute_result"
    },
    {
     "data": {
      "image/png": "[encoded data removed]",
      "text/plain": [
       "<matplotlib.figure.Figure at 0x7f9647992400>"
      ]
     },
     "metadata": {},
     "output_type": "display_data"
    }
   ],
   "source": [
    "#plt.stackplot(index_values.index,*[ts for col, ts in index_values.iteritems()])\n",
    "#plt.show()\n",
    "index_values.plot(stacked=True)"
   ]
  },
  {
   "cell_type": "code",
   "execution_count": 14,
   "metadata": {},
   "outputs": [
    {
     "data": {
      "text/html": [
       "<div>\n",
       "<style scoped>\n",
       "    .dataframe tbody tr th:only-of-type {\n",
       "        vertical-align: middle;\n",
       "    }\n",
       "\n",
       "    .dataframe tbody tr th {\n",
       "        vertical-align: top;\n",
       "    }\n",
       "\n",
       "    .dataframe thead th {\n",
       "        text-align: right;\n",
       "    }\n",
       "</style>\n",
       "<table border=\"1\" class=\"dataframe\">\n",
       "  <thead>\n",
       "    <tr style=\"text-align: right;\">\n",
       "      <th></th>\n",
       "      <th>ID</th>\n",
       "      <th>NAME</th>\n",
       "      <th>SYMBOL</th>\n",
       "      <th>RANK</th>\n",
       "      <th>PRICE_USD</th>\n",
       "      <th>PRICE_BTC</th>\n",
       "      <th>24H_VOLUMNE_USD</th>\n",
       "      <th>MARKET_CAP_USD</th>\n",
       "      <th>AVAILABLE SUPPLY</th>\n",
       "      <th>TOTAL_SUPPLY</th>\n",
       "      <th>MAX_SUPPLY</th>\n",
       "      <th>%1HR</th>\n",
       "      <th>%24HR</th>\n",
       "      <th>%7D</th>\n",
       "      <th>LAST UPDATED</th>\n",
       "      <th>TIMESTAMP</th>\n",
       "    </tr>\n",
       "  </thead>\n",
       "  <tbody>\n",
       "    <tr>\n",
       "      <th>0</th>\n",
       "      <td>bitcoin</td>\n",
       "      <td>Bitcoin</td>\n",
       "      <td>BTC</td>\n",
       "      <td>1</td>\n",
       "      <td>11153.700000</td>\n",
       "      <td>1.000000</td>\n",
       "      <td>5.231050e+09</td>\n",
       "      <td>1.864429e+11</td>\n",
       "      <td>1.671579e+07</td>\n",
       "      <td>1.671579e+07</td>\n",
       "      <td>2.100000e+07</td>\n",
       "      <td>0.17</td>\n",
       "      <td>1.91</td>\n",
       "      <td>27.38</td>\n",
       "      <td>1512253450</td>\n",
       "      <td>2017-12-02 22:26:08.632507</td>\n",
       "    </tr>\n",
       "    <tr>\n",
       "      <th>1</th>\n",
       "      <td>ethereum</td>\n",
       "      <td>Ethereum</td>\n",
       "      <td>ETH</td>\n",
       "      <td>2</td>\n",
       "      <td>465.142000</td>\n",
       "      <td>0.042249</td>\n",
       "      <td>9.777450e+08</td>\n",
       "      <td>4.469790e+10</td>\n",
       "      <td>9.609518e+07</td>\n",
       "      <td>9.609518e+07</td>\n",
       "      <td>NaN</td>\n",
       "      <td>-0.00</td>\n",
       "      <td>-0.54</td>\n",
       "      <td>-0.40</td>\n",
       "      <td>1512253455</td>\n",
       "      <td>2017-12-02 22:26:08.632569</td>\n",
       "    </tr>\n",
       "    <tr>\n",
       "      <th>2</th>\n",
       "      <td>bitcoin-cash</td>\n",
       "      <td>Bitcoin Cash</td>\n",
       "      <td>BCH</td>\n",
       "      <td>3</td>\n",
       "      <td>1451.000000</td>\n",
       "      <td>0.131796</td>\n",
       "      <td>5.887420e+08</td>\n",
       "      <td>2.442655e+10</td>\n",
       "      <td>1.683429e+07</td>\n",
       "      <td>1.683429e+07</td>\n",
       "      <td>2.100000e+07</td>\n",
       "      <td>-0.36</td>\n",
       "      <td>-0.71</td>\n",
       "      <td>-8.87</td>\n",
       "      <td>1512253473</td>\n",
       "      <td>2017-12-02 22:26:08.632592</td>\n",
       "    </tr>\n",
       "    <tr>\n",
       "      <th>3</th>\n",
       "      <td>ripple</td>\n",
       "      <td>Ripple</td>\n",
       "      <td>XRP</td>\n",
       "      <td>4</td>\n",
       "      <td>0.255639</td>\n",
       "      <td>0.000023</td>\n",
       "      <td>1.250330e+08</td>\n",
       "      <td>9.873512e+09</td>\n",
       "      <td>3.862287e+10</td>\n",
       "      <td>9.999317e+10</td>\n",
       "      <td>1.000000e+11</td>\n",
       "      <td>0.11</td>\n",
       "      <td>-0.52</td>\n",
       "      <td>1.32</td>\n",
       "      <td>1512253441</td>\n",
       "      <td>2017-12-02 22:26:08.632611</td>\n",
       "    </tr>\n",
       "    <tr>\n",
       "      <th>4</th>\n",
       "      <td>dash</td>\n",
       "      <td>Dash</td>\n",
       "      <td>DASH</td>\n",
       "      <td>5</td>\n",
       "      <td>773.350000</td>\n",
       "      <td>0.070244</td>\n",
       "      <td>1.899600e+08</td>\n",
       "      <td>5.973510e+09</td>\n",
       "      <td>7.724200e+06</td>\n",
       "      <td>7.724200e+06</td>\n",
       "      <td>1.890000e+07</td>\n",
       "      <td>-0.15</td>\n",
       "      <td>-3.17</td>\n",
       "      <td>21.42</td>\n",
       "      <td>1512253442</td>\n",
       "      <td>2017-12-02 22:26:08.632625</td>\n",
       "    </tr>\n",
       "  </tbody>\n",
       "</table>\n",
       "</div>"
      ],
      "text/plain": [
       "            ID           NAME SYMBOL  RANK     PRICE_USD  PRICE_BTC  \\\n",
       "0       bitcoin       Bitcoin    BTC     1  11153.700000   1.000000   \n",
       "1      ethereum      Ethereum    ETH     2    465.142000   0.042249   \n",
       "2  bitcoin-cash  Bitcoin Cash    BCH     3   1451.000000   0.131796   \n",
       "3        ripple        Ripple    XRP     4      0.255639   0.000023   \n",
       "4          dash          Dash   DASH     5    773.350000   0.070244   \n",
       "\n",
       "   24H_VOLUMNE_USD  MARKET_CAP_USD  AVAILABLE SUPPLY  TOTAL_SUPPLY  \\\n",
       "0     5.231050e+09    1.864429e+11      1.671579e+07  1.671579e+07   \n",
       "1     9.777450e+08    4.469790e+10      9.609518e+07  9.609518e+07   \n",
       "2     5.887420e+08    2.442655e+10      1.683429e+07  1.683429e+07   \n",
       "3     1.250330e+08    9.873512e+09      3.862287e+10  9.999317e+10   \n",
       "4     1.899600e+08    5.973510e+09      7.724200e+06  7.724200e+06   \n",
       "\n",
       "     MAX_SUPPLY  %1HR  %24HR    %7D  LAST UPDATED                   TIMESTAMP  \n",
       "0  2.100000e+07  0.17   1.91  27.38    1512253450  2017-12-02 22:26:08.632507  \n",
       "1           NaN -0.00  -0.54  -0.40    1512253455  2017-12-02 22:26:08.632569  \n",
       "2  2.100000e+07 -0.36  -0.71  -8.87    1512253473  2017-12-02 22:26:08.632592  \n",
       "3  1.000000e+11  0.11  -0.52   1.32    1512253441  2017-12-02 22:26:08.632611  \n",
       "4  1.890000e+07 -0.15  -3.17  21.42    1512253442  2017-12-02 22:26:08.632625  "
      ]
     },
     "execution_count": 14,
     "metadata": {},
     "output_type": "execute_result"
    }
   ],
   "source": [
    "current_marketcap = pd.read_csv(\"coinmarketcap_ticker_data_dump.csv\")\n",
    "current_marketcap.head()"
   ]
  },
  {
   "cell_type": "code",
   "execution_count": 26,
   "metadata": {},
   "outputs": [],
   "source": [
    "def coinmarketcap_tickerdump():\n",
    "    savedir = os.getcwd()\n",
    "\n",
    "    assert os.path.exists(savedir), \"I did not find the file at, \"+str(savedir)\n",
    "\n",
    "    coinmarketcap = Market()\n",
    "    coinmarket_ticker_data = coinmarketcap.ticker(convert = 'USD')\n",
    "\n",
    "    with open(os.path.join(savedir, 'coinmarketcap_tickerdump.csv'),'w', newline = '') as myfile:\n",
    "        wr = csv.writer(myfile) #, quoting=csv.QUOTE_ALL)\n",
    "        wr.writerow([' ID ', 'NAME', 'SYMBOL', 'RANK', 'PRICE_USD', 'PRICE_BTC', '24H_VOLUMNE_USD', 'MARKET_CAP_USD', 'AVAILABLE SUPPLY',\n",
    "                     'TOTAL_SUPPLY', 'MAX_SUPPLY', '%1HR', '%24HR', '%7D', \"LAST UPDATED\", \"TIMESTAMP\"])\n",
    "        for i in range(len(coinmarket_ticker_data)):\n",
    "            wr.writerow(\n",
    "                [coinmarket_ticker_data[i]['id'],\n",
    "                coinmarket_ticker_data[i]['name'],\n",
    "                coinmarket_ticker_data[i]['symbol'],\n",
    "                coinmarket_ticker_data[i]['rank'],\n",
    "                coinmarket_ticker_data[i]['price_usd'],\n",
    "                coinmarket_ticker_data[i]['price_btc'],\n",
    "                coinmarket_ticker_data[i]['24h_volume_usd'],\n",
    "                coinmarket_ticker_data[i]['market_cap_usd'],\n",
    "                coinmarket_ticker_data[i]['available_supply'],\n",
    "                coinmarket_ticker_data[i]['total_supply'],\n",
    "                coinmarket_ticker_data[i]['max_supply'],\n",
    "                coinmarket_ticker_data[i]['percent_change_1h'],\n",
    "                coinmarket_ticker_data[i]['percent_change_24h'],\n",
    "                coinmarket_ticker_data[i]['percent_change_7d'],\n",
    "                coinmarket_ticker_data[i]['last_updated'],\n",
    "                datetime.datetime.now()]\n",
    "            )"
   ]
  },
  {
   "cell_type": "code",
   "execution_count": 27,
   "metadata": {},
   "outputs": [],
   "source": [
    "def get_current_pricing(file_name=\"coinmarketcap_tickerdump.csv\"):\n",
    "    try:\n",
    "        current_marketcap = pd.read_csv(file_name)\n",
    "    except:\n",
    "        coinmarketcap_tickerdump()\n",
    "        current_marketcap = pd.read_csv('coinmarketcap_tickerdump.csv')\n",
    "        \n",
    "    return(current_marketcap)"
   ]
  },
  {
   "cell_type": "code",
   "execution_count": 65,
   "metadata": {},
   "outputs": [],
   "source": [
    "def current_holdings_value(current_holdings={}, base_currency=\"USD\",current_pricing=None):\n",
    "    current_pricing = get_current_pricing(current_pricing)\n",
    "    \n",
    "    holdings_value = 0\n",
    "    for currency in current_holdings:\n",
    "        conversion_factor = float(current_pricing[current_pricing[\"SYMBOL\"]==currency][\"PRICE_USD\"]) if currency != base_currency else 1\n",
    "        #print(conversion_factor)\n",
    "        \n",
    "        holdings_value += current_holdings[currency] * conversion_factor\n",
    "    return(holdings_value)\n",
    "    # What is the current value of the portfolio in terms of the base currency"
   ]
  },
  {
   "cell_type": "code",
   "execution_count": 48,
   "metadata": {},
   "outputs": [],
   "source": [
    "def calculate_altfundx_allocation(currencies=altfundx_currencies, aum_usd=1000, current_marketcap=None):\n",
    "    \n",
    "    current_marketcap = get_current_pricing(current_marketcap)\n",
    "    \n",
    "    altfundX = current_marketcap.loc[current_marketcap['SYMBOL'].isin(currencies)].nlargest(X,'MARKET_CAP_USD')\n",
    "    #altfundX = current_marketcap.nlargest(X,'MARKET_CAP_USD')\n",
    "    altfundX['allocation_percent'] = altfundX[['MARKET_CAP_USD']]/altfundX[['MARKET_CAP_USD']].sum()\n",
    "    altfundX['allocation_rounded_percent'] = (round(altfundX['allocation_percent']*100,2)*(100/round(altfundX['allocation_percent']*100,2).sum()))\n",
    "    altfundX['rounded_price_usd'] = round(altfundX['PRICE_USD'],2)\n",
    "    aum_usd = 1000\n",
    "    #allocation_column_name = 'coins_per_'+str(aum_usd)+'_usd'\n",
    "    altfundX['optimal_holdings'] = (aum_usd * altfundX['allocation_percent'])/altfundX['PRICE_USD']\n",
    "    return(altfundX[['SYMBOL','allocation_rounded_percent','rounded_price_usd','optimal_holdings']])"
   ]
  },
  {
   "cell_type": "code",
   "execution_count": 74,
   "metadata": {},
   "outputs": [
    {
     "name": "stdout",
     "output_type": "stream",
     "text": [
      "portfolio value:  2426.6319141327  USD\n",
      "  SYMBOL  allocation_rounded_percent  rounded_price_usd  optimal_holdings\n",
      "0    BTC                   79.172083           18845.40          0.042014\n",
      "1    ETH                   16.738326             692.16          0.241813\n",
      "4    LTC                    4.089591             299.75          0.136325\n"
     ]
    }
   ],
   "source": [
    "current_holdings = {\"USD\":1430.36, \"BTC\":0.04185700, \"ETH\":0.24091210, \"LTC\":0.13581700}\n",
    "holdings_value = current_holdings_value(current_holdings=current_holdings, base_currency=\"USD\",current_pricing=None)\n",
    "print(\"portfolio value: \",holdings_value,\" USD\")\n",
    "altfundX = calculate_altfundx_allocation(currencies=altfundx_currencies, aum_usd=holdings_value*.95, current_marketcap=\"coinmarketcap_tickerdump.csv\")\n",
    "print(altfundX)"
   ]
  },
  {
   "cell_type": "code",
   "execution_count": 75,
   "metadata": {},
   "outputs": [
    {
     "data": {
      "text/plain": [
       "2305.3003184260647"
      ]
     },
     "execution_count": 75,
     "metadata": {},
     "output_type": "execute_result"
    }
   ],
   "source": [
    "holdings_value*.95"
   ]
  },
  {
   "cell_type": "code",
   "execution_count": 76,
   "metadata": {},
   "outputs": [
    {
     "data": {
      "image/png": "[encoded data removed]",
      "text/plain": [
       "<matplotlib.figure.Figure at 0x7f52adbc9a90>"
      ]
     },
     "metadata": {},
     "output_type": "display_data"
    }
   ],
   "source": [
    "def plot_allocation(allocation=altfundX):\n",
    "    # Pie chart, where the slices will be ordered and plotted counter-clockwise:\n",
    "    labels = allocation['SYMBOL']\n",
    "    sizes = allocation['allocation_rounded_percent']\n",
    "    #explode = (0, 0.1, 0, 0)  # only \"explode\" the 2nd slice (i.e. 'Hogs')\n",
    "\n",
    "    fig1, ax1 = plt.subplots()\n",
    "    ax1.pie(sizes, labels=labels, autopct='%1.1f%%',\n",
    "            shadow=False, startangle=90)\n",
    "    ax1.axis('equal')  # Equal aspect ratio ensures that pie is drawn as a circle.\n",
    "\n",
    "    plt.show()\n",
    "plot_allocation()"
   ]
  },
  {
   "cell_type": "code",
   "execution_count": null,
   "metadata": {},
   "outputs": [],
   "source": []
  },
  {
   "cell_type": "code",
   "execution_count": 77,
   "metadata": {},
   "outputs": [
    {
     "name": "stdout",
     "output_type": "stream",
     "text": [
      "current:  {'BTC': 0.041857, 'LTC': 0.135817, 'ETH': 0.2409121, 'USD': 1430.36}\n",
      "optimal:  {'BTC': 0.042013656031393815, 'LTC': 0.13632536416945615, 'ETH': 0.24181284743423911}\n",
      "diffs:  {'BTC': 0.00015665603139381618, 'LTC': 0.0005083641694561547, 'ETH': 0.0009007474342391242, 'USD': -1430.36}\n"
     ]
    }
   ],
   "source": [
    "optimal_holdings = dict(zip(altfundX.SYMBOL, altfundX.optimal_holdings))\n",
    "# need to get this to include the intersection of the current_holdings & optimal_holdings sets\n",
    "holdings_diff = {x: (optimal_holdings[x] if x in optimal_holdings else 0) - (current_holdings[x] if x in current_holdings else 0) for x in list(set(list(optimal_holdings.keys())+list(current_holdings.keys())))}\n",
    "print(\"current: \",current_holdings)\n",
    "print(\"optimal: \",optimal_holdings)\n",
    "print(\"diffs: \",holdings_diff)"
   ]
  },
  {
   "cell_type": "code",
   "execution_count": null,
   "metadata": {
    "scrolled": true
   },
   "outputs": [],
   "source": [
    "# orders_to_make\n",
    "# "
   ]
  },
  {
   "cell_type": "code",
   "execution_count": 59,
   "metadata": {},
   "outputs": [],
   "source": [
    "import gdax"
   ]
  },
  {
   "cell_type": "code",
   "execution_count": 61,
   "metadata": {},
   "outputs": [],
   "source": [
    "public_client = gdax.PublicClient()\n",
    "markets = public_client.get_products()"
   ]
  },
  {
   "cell_type": "code",
   "execution_count": 62,
   "metadata": {},
   "outputs": [
    {
     "data": {
      "text/plain": [
       "[{'base_currency': 'LTC',\n",
       "  'base_max_size': '1000000',\n",
       "  'base_min_size': '0.01',\n",
       "  'display_name': 'LTC/EUR',\n",
       "  'id': 'LTC-EUR',\n",
       "  'margin_enabled': False,\n",
       "  'quote_currency': 'EUR',\n",
       "  'quote_increment': '0.01',\n",
       "  'status': 'online',\n",
       "  'status_message': None},\n",
       " {'base_currency': 'LTC',\n",
       "  'base_max_size': '1000000',\n",
       "  'base_min_size': '0.01',\n",
       "  'display_name': 'LTC/USD',\n",
       "  'id': 'LTC-USD',\n",
       "  'margin_enabled': False,\n",
       "  'quote_currency': 'USD',\n",
       "  'quote_increment': '0.01',\n",
       "  'status': 'online',\n",
       "  'status_message': None},\n",
       " {'base_currency': 'LTC',\n",
       "  'base_max_size': '1000000',\n",
       "  'base_min_size': '0.01',\n",
       "  'display_name': 'LTC/BTC',\n",
       "  'id': 'LTC-BTC',\n",
       "  'margin_enabled': False,\n",
       "  'quote_currency': 'BTC',\n",
       "  'quote_increment': '0.00001',\n",
       "  'status': 'online',\n",
       "  'status_message': None},\n",
       " {'base_currency': 'ETH',\n",
       "  'base_max_size': '5000',\n",
       "  'base_min_size': '0.001',\n",
       "  'display_name': 'ETH/EUR',\n",
       "  'id': 'ETH-EUR',\n",
       "  'margin_enabled': False,\n",
       "  'quote_currency': 'EUR',\n",
       "  'quote_increment': '0.01',\n",
       "  'status': 'online',\n",
       "  'status_message': None},\n",
       " {'base_currency': 'ETH',\n",
       "  'base_max_size': '5000',\n",
       "  'base_min_size': '0.001',\n",
       "  'display_name': 'ETH/USD',\n",
       "  'id': 'ETH-USD',\n",
       "  'margin_enabled': False,\n",
       "  'quote_currency': 'USD',\n",
       "  'quote_increment': '0.01',\n",
       "  'status': 'online',\n",
       "  'status_message': None},\n",
       " {'base_currency': 'ETH',\n",
       "  'base_max_size': '5000',\n",
       "  'base_min_size': '0.001',\n",
       "  'display_name': 'ETH/BTC',\n",
       "  'id': 'ETH-BTC',\n",
       "  'margin_enabled': False,\n",
       "  'quote_currency': 'BTC',\n",
       "  'quote_increment': '0.00001',\n",
       "  'status': 'online',\n",
       "  'status_message': None},\n",
       " {'base_currency': 'BTC',\n",
       "  'base_max_size': '250',\n",
       "  'base_min_size': '0.0001',\n",
       "  'display_name': 'BTC/GBP',\n",
       "  'id': 'BTC-GBP',\n",
       "  'margin_enabled': False,\n",
       "  'quote_currency': 'GBP',\n",
       "  'quote_increment': '0.01',\n",
       "  'status': 'online',\n",
       "  'status_message': None},\n",
       " {'base_currency': 'BTC',\n",
       "  'base_max_size': '250',\n",
       "  'base_min_size': '0.0001',\n",
       "  'display_name': 'BTC/EUR',\n",
       "  'id': 'BTC-EUR',\n",
       "  'margin_enabled': False,\n",
       "  'quote_currency': 'EUR',\n",
       "  'quote_increment': '0.01',\n",
       "  'status': 'online',\n",
       "  'status_message': None},\n",
       " {'base_currency': 'BTC',\n",
       "  'base_max_size': '250',\n",
       "  'base_min_size': '0.0001',\n",
       "  'display_name': 'BTC/USD',\n",
       "  'id': 'BTC-USD',\n",
       "  'margin_enabled': False,\n",
       "  'quote_currency': 'USD',\n",
       "  'quote_increment': '0.01',\n",
       "  'status': 'online',\n",
       "  'status_message': None}]"
      ]
     },
     "execution_count": 62,
     "metadata": {},
     "output_type": "execute_result"
    }
   ],
   "source": [
    "markets"
   ]
  },
  {
   "cell_type": "code",
   "execution_count": null,
   "metadata": {},
   "outputs": [],
   "source": [
    "# given all the diffs\n",
    "# make all possible markets for the currencies\n",
    "# go through each market and create the trades that would solve the diffs\n",
    "# for markets that don't actually exist, find the markets that do actually exist to create that artificial market and make the necessary markets among those\n",
    "# \n",
    "\n",
    "\n",
    "# given all of the markets available for the currencies\n",
    "# given all the diffs that need to happen...\n",
    "# Can we assume BTC basis for everything? Don't need to.\n",
    "# For every diff:\n",
    "    # if the diff is positive, we are therefore buying\n",
    "        # find all markets with base currency of that diff\n",
    "        # find all markets with quote_currency where we have negative diff\n",
    "        # for every market isolated:\n",
    "            # create an order that would be at most the amount we need to buy/sell of the underlying currencies\n",
    "            # "
   ]
  }
 ],
 "metadata": {
  "kernelspec": {
   "display_name": "Python 3",
   "language": "python",
   "name": "python3"
  },
  "language_info": {
   "codemirror_mode": {
    "name": "ipython",
    "version": 3
   },
   "file_extension": ".py",
   "mimetype": "text/x-python",
   "name": "python",
   "nbconvert_exporter": "python",
   "pygments_lexer": "ipython3",
   "version": "3.4.3"
  }
 },
 "nbformat": 4,
 "nbformat_minor": 2
}
